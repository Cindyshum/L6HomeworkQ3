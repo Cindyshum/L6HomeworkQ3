{
  "cells": [
    {
      "cell_type": "code",
      "execution_count": 9,
      "metadata": {
        "trusted": true
      },
      "outputs": [
        {
          "name": "stdout",
          "output_type": "stream",
          "text": [
            "3.7.9 (v3.7.9:13c94747c7, Aug 15 2020, 01:31:08) \n",
            "[Clang 6.0 (clang-600.0.57)]\n",
            "0.24.1\n",
            "1.0.1\n"
          ]
        }
      ],
      "source": [
        "import sys\n",
        "import pandas as pd\n",
        "from sklearn.tree import DecisionTreeClassifier\n",
        "import joblib\n",
        "import sklearn\n",
        "\n",
        "print(sys.version)\n",
        "print(sklearn.__version__)\n",
        "print(joblib.__version__)"
      ]
    },
    {
      "cell_type": "code",
      "execution_count": 10,
      "metadata": {
        "trusted": true
      },
      "outputs": [],
      "source": [
        "# Data Import\n",
        "# df = pd.read_csv('music-type-modified.csv')\n",
        "# df_x = df.drop(columns=['music'])\n",
        "# df_y = df['music']\n",
        "\n",
        "df = pd.read_csv('travel.csv')\n",
        "df_x = df.drop(columns=['destination'])\n",
        "df_y = df['destination']"
      ]
    },
    {
      "cell_type": "code",
      "execution_count": 11,
      "metadata": {
        "trusted": true
      },
      "outputs": [
        {
          "data": {
            "text/plain": [
              "DecisionTreeClassifier()"
            ]
          },
          "execution_count": 11,
          "metadata": {},
          "output_type": "execute_result"
        }
      ],
      "source": [
        "# Generate model\n",
        "model = DecisionTreeClassifier()\n",
        "model.fit(df_x.values, df_y)"
      ]
    },
    {
      "cell_type": "code",
      "execution_count": 12,
      "metadata": {
        "trusted": true
      },
      "outputs": [
        {
          "data": {
            "text/plain": [
              "array(['Singapore'], dtype=object)"
            ]
          },
          "execution_count": 12,
          "metadata": {},
          "output_type": "execute_result"
        }
      ],
      "source": [
        "# Testing\n",
        "prediction = model.predict([[30,1,2]])\n",
        "prediction"
      ]
    },
    {
      "cell_type": "code",
      "execution_count": 13,
      "metadata": {
        "trusted": true
      },
      "outputs": [
        {
          "data": {
            "text/plain": [
              "['travel-recommender.joblib']"
            ]
          },
          "execution_count": 13,
          "metadata": {},
          "output_type": "execute_result"
        }
      ],
      "source": [
        "# Export model\n",
        "# joblib.dump(model, 'music-recommender.joblib')\n",
        "joblib.dump(model, 'travel-recommender.joblib')"
      ]
    },
    {
      "cell_type": "code",
      "execution_count": 14,
      "metadata": {},
      "outputs": [
        {
          "name": "stdout",
          "output_type": "stream",
          "text": [
            "1.21.6\n"
          ]
        },
        {
          "data": {
            "text/plain": [
              "\"['Europe']\""
            ]
          },
          "execution_count": 14,
          "metadata": {},
          "output_type": "execute_result"
        }
      ],
      "source": [
        "# Testing exported model\n",
        "from joblib import load\n",
        "import numpy as np\n",
        "\n",
        "print(np.__version__)\n",
        "\n",
        "# model = load('music-recommender.joblib')\n",
        "model = load('travel-recommender.joblib')\n",
        "np_arr = np.array([5100,1,2])\n",
        "predictions = model.predict([np_arr])\n",
        "predictions_to_str = str(predictions)\n",
        "predictions_to_str"
      ]
    }
  ],
  "metadata": {
    "kernelspec": {
      "display_name": "Python 3",
      "language": "python",
      "name": "python3"
    },
    "language_info": {
      "codemirror_mode": {
        "name": "ipython",
        "version": 3
      },
      "file_extension": ".py",
      "mimetype": "text/x-python",
      "name": "python",
      "nbconvert_exporter": "python",
      "pygments_lexer": "ipython3",
      "version": "3.7.9"
    }
  },
  "nbformat": 4,
  "nbformat_minor": 4
}
